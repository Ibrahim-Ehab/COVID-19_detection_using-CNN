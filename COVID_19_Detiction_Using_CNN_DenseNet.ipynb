{
  "nbformat": 4,
  "nbformat_minor": 0,
  "metadata": {
    "colab": {
      "name": "COVID_19_Detiction Using CNN_DenseNet.ipynb",
      "provenance": [],
      "collapsed_sections": [],
      "include_colab_link": true
    },
    "kernelspec": {
      "name": "python3",
      "display_name": "Python 3"
    },
    "accelerator": "GPU"
  },
  "cells": [
    {
      "cell_type": "markdown",
      "metadata": {
        "id": "view-in-github",
        "colab_type": "text"
      },
      "source": [
        "<a href=\"https://colab.research.google.com/github/Ibrahim-Ehab/COVID-19_detection_using-CNN/blob/main/COVID_19_Detiction_Using_CNN_DenseNet.ipynb\" target=\"_parent\"><img src=\"https://colab.research.google.com/assets/colab-badge.svg\" alt=\"Open In Colab\"/></a>"
      ]
    },
    {
      "cell_type": "markdown",
      "source": [
        "#COVID-19 Detictor using DenseNet-CNN"
      ],
      "metadata": {
        "id": "3npGBKNW5inh"
      }
    },
    {
      "cell_type": "markdown",
      "source": [
        "Link for used dataset:\n",
        "\n",
        "[COVID-19 Dataset](https://drive.google.com/drive/folders/1HbFUthVwqm3jijluMhTWuf0URdbKk1ol?usp=sharing)\n"
      ],
      "metadata": {
        "id": "D19NBtcg6VyI"
      }
    },
    {
      "cell_type": "code",
      "metadata": {
        "id": "DkJs6zvM7og3",
        "colab": {
          "base_uri": "https://localhost:8080/"
        },
        "outputId": "23947e2a-ff85-4e51-8c95-2ffb88465db1"
      },
      "source": [
        "# Upload google drive in our COLAB\n",
        "\n",
        "from google.colab import drive\n",
        "drive.mount('/content/drive')"
      ],
      "execution_count": 2,
      "outputs": [
        {
          "output_type": "stream",
          "name": "stdout",
          "text": [
            "Drive already mounted at /content/drive; to attempt to forcibly remount, call drive.mount(\"/content/drive\", force_remount=True).\n"
          ]
        }
      ]
    },
    {
      "cell_type": "code",
      "metadata": {
        "id": "o1F_l7gz8_y5"
      },
      "source": [
        "# install tensorflow version 2\n",
        "%tensorflow_version 2.x\n"
      ],
      "execution_count": 2,
      "outputs": []
    },
    {
      "cell_type": "code",
      "metadata": {
        "id": "_cNzojt09OoX"
      },
      "source": [
        "# Importing libraries\n",
        "\n",
        "import tensorflow.keras\n",
        "from tensorflow.keras.models import Model\n",
        "from tensorflow.keras.layers import Input, Dense, Activation, Flatten, Conv2D, MaxPool2D, Dropout\n",
        "from tensorflow.keras.optimizers import Adam \n",
        "from tensorflow.keras.preprocessing.image import ImageDataGenerator\n",
        "from tensorflow.keras.losses import binary_crossentropy\n",
        "from tensorflow.keras import metrics\n",
        "import matplotlib.pyplot as plt\n",
        "from sklearn.metrics import classification_report, confusion_matrix, plot_confusion_matrix, ConfusionMatrixDisplay\n",
        "import numpy as np\n"
      ],
      "execution_count": 3,
      "outputs": []
    },
    {
      "cell_type": "code",
      "metadata": {
        "id": "3k-KAqd7KvHa"
      },
      "source": [
        "# Create paths for train & test\n",
        "\n",
        "train_loc = '/content/drive/My Drive/COVID-19 Dataset/Train/'\n",
        "test_loc = '/content/drive/My Drive/COVID-19 Dataset/Test/'"
      ],
      "execution_count": 4,
      "outputs": []
    },
    {
      "cell_type": "code",
      "metadata": {
        "id": "EC1fsx7htAeC",
        "colab": {
          "base_uri": "https://localhost:8080/"
        },
        "outputId": "040b6fc8-8826-4512-91bd-2a15173a44a4"
      },
      "source": [
        "# image preparation (resize)\n",
        "\n",
        "trdata = ImageDataGenerator(rescale= 1./255,\n",
        "                            shear_range = 0.2,\n",
        "                            zoom_range = 0.2,\n",
        "                            horizontal_flip = True,\n",
        ")\n",
        "\n",
        "traindata = trdata.flow_from_directory(directory = train_loc, target_size = (224,224))\n",
        "\n",
        "tsdata = ImageDataGenerator(rescale= 1./255,\n",
        "                            shear_range = 0.2,\n",
        "                            zoom_range = 0.2,\n",
        "                            horizontal_flip = True,\n",
        ")\n",
        "\n",
        "testdata = tsdata.flow_from_directory(directory = test_loc, target_size = (224,224))"
      ],
      "execution_count": 5,
      "outputs": [
        {
          "output_type": "stream",
          "name": "stdout",
          "text": [
            "Found 1400 images belonging to 2 classes.\n",
            "Found 460 images belonging to 2 classes.\n"
          ]
        }
      ]
    },
    {
      "cell_type": "markdown",
      "source": [
        "## Show lables of Classification"
      ],
      "metadata": {
        "id": "bdD4zw142ZmY"
      }
    },
    {
      "cell_type": "code",
      "metadata": {
        "id": "ZDtu3ZOCusKp",
        "colab": {
          "base_uri": "https://localhost:8080/"
        },
        "outputId": "2d403ba6-485d-4f4f-f5a4-54c54b326e71"
      },
      "source": [
        "traindata.class_indices"
      ],
      "execution_count": 6,
      "outputs": [
        {
          "output_type": "execute_result",
          "data": {
            "text/plain": [
              "{'+ COVID-19': 0, '- COVID-19': 1}"
            ]
          },
          "metadata": {},
          "execution_count": 6
        }
      ]
    },
    {
      "cell_type": "markdown",
      "source": [
        "# CNN Architectuer\n",
        "####1-Input Layer\n",
        "####2-Four Convolution layers\n",
        "####3-DenseNet layer"
      ],
      "metadata": {
        "id": "bu8XHdkuOnd7"
      }
    },
    {
      "cell_type": "code",
      "metadata": {
        "id": "Wm6wOtr2rqlf"
      },
      "source": [
        "# define input image\n",
        "input_shape = (224,224,3)\n",
        "\n",
        "# create the Network\n",
        "# Input layer\n",
        "img_imput = Input(shape  = input_shape, name = 'img_input')\n",
        "\n",
        "# Create 4 Convolutinal layers\n",
        "#Conv 1\n",
        "x = Conv2D(32, (3,3) , padding = 'same' , activation='relu', name = 'layer_1') (img_imput)\n",
        "#Conv 2\n",
        "x = Conv2D(64, (3,3) , padding = 'same' , activation='relu', name = 'layer_2') (x)\n",
        "x = MaxPool2D((2,2), strides=(2,2), name = 'layer_3') (x)\n",
        "x = Dropout(0.25)(x)\n",
        "#Conv 3\n",
        "x = Conv2D(64, (3,3) , padding = 'same' , activation='relu', name = 'layer_4') (x)\n",
        "x = MaxPool2D((2,2), strides=(2,2), name = 'layer_5') (x)\n",
        "x = Dropout(0.25)(x)\n",
        "#Conv 4\n",
        "x = Conv2D(128, (3,3) , padding = 'same' , activation='relu', name = 'layer_6') (x)\n",
        "x = MaxPool2D((2,2), strides=(2,2), name = 'layer_7') (x)\n",
        "x = Dropout(0.25)(x)\n",
        "#DenseNet\n",
        "x = Flatten(name = 'fc_1')(x)\n",
        "x = Dense(64, name = 'lyaer_8')(x)\n",
        "x = Dropout(0.5) (x)\n",
        "x = Dense(2, activation='sigmoid', name='predictions')(x)\n"
      ],
      "execution_count": 7,
      "outputs": []
    },
    {
      "cell_type": "code",
      "metadata": {
        "id": "w6tNCpljC2y9"
      },
      "source": [
        "# Generate the model\n",
        "model = Model(inputs = img_imput, outputs =x , name='CNN_COVID_19')"
      ],
      "execution_count": 8,
      "outputs": []
    },
    {
      "cell_type": "markdown",
      "source": [
        "#Show our CNN structure for each layer"
      ],
      "metadata": {
        "id": "g8xgpyDO3Kxo"
      }
    },
    {
      "cell_type": "code",
      "metadata": {
        "id": "GqI1sriXDUZl",
        "colab": {
          "base_uri": "https://localhost:8080/"
        },
        "outputId": "af223cb8-1547-49d9-f52f-7674f49ad3bc"
      },
      "source": [
        "# Print network structure\n",
        "model.summary()"
      ],
      "execution_count": 9,
      "outputs": [
        {
          "output_type": "stream",
          "name": "stdout",
          "text": [
            "Model: \"CNN_COVID_19\"\n",
            "_________________________________________________________________\n",
            " Layer (type)                Output Shape              Param #   \n",
            "=================================================================\n",
            " img_input (InputLayer)      [(None, 224, 224, 3)]     0         \n",
            "                                                                 \n",
            " layer_1 (Conv2D)            (None, 224, 224, 32)      896       \n",
            "                                                                 \n",
            " layer_2 (Conv2D)            (None, 224, 224, 64)      18496     \n",
            "                                                                 \n",
            " layer_3 (MaxPooling2D)      (None, 112, 112, 64)      0         \n",
            "                                                                 \n",
            " dropout (Dropout)           (None, 112, 112, 64)      0         \n",
            "                                                                 \n",
            " layer_4 (Conv2D)            (None, 112, 112, 64)      36928     \n",
            "                                                                 \n",
            " layer_5 (MaxPooling2D)      (None, 56, 56, 64)        0         \n",
            "                                                                 \n",
            " dropout_1 (Dropout)         (None, 56, 56, 64)        0         \n",
            "                                                                 \n",
            " layer_6 (Conv2D)            (None, 56, 56, 128)       73856     \n",
            "                                                                 \n",
            " layer_7 (MaxPooling2D)      (None, 28, 28, 128)       0         \n",
            "                                                                 \n",
            " dropout_2 (Dropout)         (None, 28, 28, 128)       0         \n",
            "                                                                 \n",
            " fc_1 (Flatten)              (None, 100352)            0         \n",
            "                                                                 \n",
            " lyaer_8 (Dense)             (None, 64)                6422592   \n",
            "                                                                 \n",
            " dropout_3 (Dropout)         (None, 64)                0         \n",
            "                                                                 \n",
            " predictions (Dense)         (None, 2)                 130       \n",
            "                                                                 \n",
            "=================================================================\n",
            "Total params: 6,552,898\n",
            "Trainable params: 6,552,898\n",
            "Non-trainable params: 0\n",
            "_________________________________________________________________\n"
          ]
        }
      ]
    },
    {
      "cell_type": "code",
      "metadata": {
        "id": "5pd2mB0_E17s"
      },
      "source": [
        "# Compiling the model\n",
        "model.compile(optimizer='adam', loss=binary_crossentropy, metrics=['accuracy'])"
      ],
      "execution_count": 10,
      "outputs": []
    },
    {
      "cell_type": "markdown",
      "source": [
        "# Let's begin our training and show the accuracy we get after each epoch"
      ],
      "metadata": {
        "id": "HNDdSoRj3nyg"
      }
    },
    {
      "cell_type": "code",
      "metadata": {
        "id": "DDbX-f48S6kN",
        "colab": {
          "base_uri": "https://localhost:8080/"
        },
        "outputId": "941922a9-ac89-4c9f-84c2-2935e9fdb771"
      },
      "source": [
        "# start Train/Test\n",
        "batch_size = 32\n",
        "hist = model.fit(traindata, steps_per_epoch = traindata.samples//batch_size,\n",
        "                 validation_data = testdata,validation_steps = testdata.samples//batch_size,\n",
        "                 epochs = 10\n",
        "                 )"
      ],
      "execution_count": 11,
      "outputs": [
        {
          "output_type": "stream",
          "name": "stdout",
          "text": [
            "Epoch 1/10\n",
            "43/43 [==============================] - 221s 5s/step - loss: 0.5333 - accuracy: 0.8370 - val_loss: 0.2128 - val_accuracy: 0.9464\n",
            "Epoch 2/10\n",
            "43/43 [==============================] - 68s 2s/step - loss: 0.2149 - accuracy: 0.9269 - val_loss: 0.1928 - val_accuracy: 0.9219\n",
            "Epoch 3/10\n",
            "43/43 [==============================] - 68s 2s/step - loss: 0.1874 - accuracy: 0.9313 - val_loss: 0.1520 - val_accuracy: 0.9576\n",
            "Epoch 4/10\n",
            "43/43 [==============================] - 69s 2s/step - loss: 0.1380 - accuracy: 0.9569 - val_loss: 0.1085 - val_accuracy: 0.9643\n",
            "Epoch 5/10\n",
            "43/43 [==============================] - 68s 2s/step - loss: 0.1214 - accuracy: 0.9547 - val_loss: 0.1062 - val_accuracy: 0.9688\n",
            "Epoch 6/10\n",
            "43/43 [==============================] - 69s 2s/step - loss: 0.1290 - accuracy: 0.9510 - val_loss: 0.1388 - val_accuracy: 0.9487\n",
            "Epoch 7/10\n",
            "43/43 [==============================] - 68s 2s/step - loss: 0.1241 - accuracy: 0.9576 - val_loss: 0.0923 - val_accuracy: 0.9710\n",
            "Epoch 8/10\n",
            "43/43 [==============================] - 68s 2s/step - loss: 0.1064 - accuracy: 0.9678 - val_loss: 0.1000 - val_accuracy: 0.9710\n",
            "Epoch 9/10\n",
            "43/43 [==============================] - 68s 2s/step - loss: 0.1129 - accuracy: 0.9686 - val_loss: 0.0864 - val_accuracy: 0.9754\n",
            "Epoch 10/10\n",
            "43/43 [==============================] - 68s 2s/step - loss: 0.0896 - accuracy: 0.9759 - val_loss: 0.0746 - val_accuracy: 0.9710\n"
          ]
        }
      ]
    },
    {
      "cell_type": "markdown",
      "source": [
        "#Visualization for brevious results \n",
        "#####1- Loss VS Validation Loss\n",
        "#####2- Accuracy VS Validation Accuracy"
      ],
      "metadata": {
        "id": "a5GOtow44YKJ"
      }
    },
    {
      "cell_type": "code",
      "metadata": {
        "id": "zN1W4RqGc4mn",
        "colab": {
          "base_uri": "https://localhost:8080/",
          "height": 281
        },
        "outputId": "14760b16-4711-4e90-fc49-52e68eb9ffbb"
      },
      "source": [
        "plt.plot(hist.history['loss'], label = 'train')\n",
        "plt.plot(hist.history['val_loss'], label = 'val')\n",
        "plt.title('CNN_COVID_19 :  Loss  &  Validation Loss')\n",
        "plt.legend()\n",
        "plt.show()"
      ],
      "execution_count": 16,
      "outputs": [
        {
          "output_type": "display_data",
          "data": {
            "text/plain": [
              "<Figure size 432x288 with 1 Axes>"
            ],
            "image/png": "[encoded data removed]"
          },
          "metadata": {
            "needs_background": "light"
          }
        }
      ]
    },
    {
      "cell_type": "code",
      "metadata": {
        "id": "KQiOkEcad_4X",
        "colab": {
          "base_uri": "https://localhost:8080/",
          "height": 281
        },
        "outputId": "92bb8f9b-89e3-43d8-c6f0-c35bf48a66f2"
      },
      "source": [
        "plt.plot(hist.history['accuracy'], label = 'train')\n",
        "plt.plot(hist.history['val_accuracy'], label = 'val')\n",
        "plt.title('CNN_COVID_19 :  Accuracy  &  Validation Accuracy')\n",
        "plt.legend()\n",
        "plt.show()"
      ],
      "execution_count": 14,
      "outputs": [
        {
          "output_type": "display_data",
          "data": {
            "text/plain": [
              "<Figure size 432x288 with 1 Axes>"
            ],
            "image/png": "[encoded data removed]"
          },
          "metadata": {
            "needs_background": "light"
          }
        }
      ]
    },
    {
      "cell_type": "markdown",
      "source": [
        "#Visualization of Confusion Matrix "
      ],
      "metadata": {
        "id": "knKMaha140sK"
      }
    },
    {
      "cell_type": "code",
      "metadata": {
        "id": "QgVsbP3Ktvwu",
        "colab": {
          "base_uri": "https://localhost:8080/",
          "height": 563
        },
        "outputId": "0e4d7de2-bfc4-49fa-d62b-5125ee32d28c"
      },
      "source": [
        "# Confusion Matrix  & Pres  & Recall   & F1-Score\n",
        "\n",
        "target_names = ['COVID+', 'COVID-']\n",
        "label_names = [0,1]\n",
        "\n",
        "Y_pred = model.predict_generator(testdata)\n",
        "y_pred = np.argmax(Y_pred ,  axis = 1)\n",
        "\n",
        "cm = confusion_matrix(testdata.classes, y_pred, labels = label_names)\n",
        "\n",
        "\n",
        "print('Confusion Matrix')\n",
        "print(confusion_matrix(testdata.classes, y_pred))\n",
        "\n",
        "print('classification_Report')\n",
        "print(classification_report(testdata.classes, y_pred, target_names=target_names))\n",
        "\n",
        "disp = ConfusionMatrixDisplay(confusion_matrix= cm, display_labels=target_names)\n",
        "disp = disp.plot(cmap=plt.cm.Blues, values_format = 'g')\n",
        "plt.show()\n"
      ],
      "execution_count": 15,
      "outputs": [
        {
          "output_type": "stream",
          "name": "stderr",
          "text": [
            "/usr/local/lib/python3.7/dist-packages/ipykernel_launcher.py:6: UserWarning: `Model.predict_generator` is deprecated and will be removed in a future version. Please use `Model.predict`, which supports generators.\n",
            "  \n"
          ]
        },
        {
          "output_type": "stream",
          "name": "stdout",
          "text": [
            "Confusion Matrix\n",
            "[[114 116]\n",
            " [113 117]]\n",
            "classification_Report\n",
            "              precision    recall  f1-score   support\n",
            "\n",
            "      COVID+       0.50      0.50      0.50       230\n",
            "      COVID-       0.50      0.51      0.51       230\n",
            "\n",
            "    accuracy                           0.50       460\n",
            "   macro avg       0.50      0.50      0.50       460\n",
            "weighted avg       0.50      0.50      0.50       460\n",
            "\n"
          ]
        },
        {
          "output_type": "display_data",
          "data": {
            "text/plain": [
              "<Figure size 432x288 with 2 Axes>"
            ],
            "image/png": "[encoded data removed]"
          },
          "metadata": {
            "needs_background": "light"
          }
        }
      ]
    },
    {
      "cell_type": "markdown",
      "source": [
        "####This notebook made by:\n",
        "    1-Ibrahim Ehab Abdelmaged\n",
        "    2-Omar Khalid Elsayed\n"
      ],
      "metadata": {
        "id": "_ON50Fz75z0Y"
      }
    },
    {
      "cell_type": "code",
      "metadata": {
        "id": "YPmai1gLEnvT"
      },
      "source": [
        ""
      ],
      "execution_count": null,
      "outputs": []
    }
  ]
}